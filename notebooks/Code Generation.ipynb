{
 "cells": [
  {
   "cell_type": "code",
   "execution_count": 42,
   "metadata": {
    "collapsed": false
   },
   "outputs": [],
   "source": [
    "import pandas as pd\n",
    "from path import Path\n",
    "import matplotlib.pyplot as plt\n",
    "import seaborn as sns\n",
    "sns.set_style('whitegrid')\n",
    "from sklearn.linear_model import LinearRegression, Ridge, Lasso\n",
    "from sklearn.pipeline import make_pipeline, Pipeline\n",
    "from sklearn.preprocessing import PolynomialFeatures\n",
    "import numpy as np\n",
    "import warnings\n",
    "import json\n",
    "warnings.filterwarnings('ignore')"
   ]
  },
  {
   "cell_type": "code",
   "execution_count": 43,
   "metadata": {
    "collapsed": true
   },
   "outputs": [],
   "source": [
    "DATA_DIR = Path(\"/home/sharad/data/metasense/la/\")"
   ]
  },
  {
   "cell_type": "code",
   "execution_count": 44,
   "metadata": {
    "collapsed": true
   },
   "outputs": [],
   "source": [
    "INITIAL_REMOVE = {\n",
    "    4: 40,\n",
    "    10: 150,\n",
    "    8: 100,\n",
    "    9: 110\n",
    "}"
   ]
  },
  {
   "cell_type": "code",
   "execution_count": 45,
   "metadata": {
    "collapsed": true
   },
   "outputs": [],
   "source": [
    "CODE_TEMPLATE = \"\"\"\n",
    "\n",
    "{weights}\n",
    "\n",
    "typedef struct gas_reading {{\n",
    "    float CO;\n",
    "    float O3;\n",
    "    float NO2;\n",
    "}} gas_reading;\n",
    "\n",
    "void calibrate_values(float coA, float coW, float o3A, float o3W, float no2A, float no2W, float temperature, float humidity, float* CO_WEIGHTS, float CO_INTERCEPT, float* O3_WEIGHTS, float O3_INTERCEPT, float* NO2_WEIGHTS, float NO2_INTERCEPT, gas_reading* reading) {{\n",
    "    int i = 0;\n",
    "{body}\n",
    "}}\n",
    "\"\"\"\n",
    "DOT_TEMPLATE = \"\"\"\n",
    "    for (i = 0; i < {length}; i++) {{\n",
    "        {reading} += {vector}[i] * {weights}[i];\n",
    "    }}\n",
    "    {reading} += {intercept};\n",
    "\"\"\""
   ]
  },
  {
   "cell_type": "code",
   "execution_count": 46,
   "metadata": {
    "collapsed": true
   },
   "outputs": [],
   "source": [
    "def read_board(board_id):\n",
    "    data = pd.read_csv(DATA_DIR / \"csv\"/ \"B%u.csv\" % board_id, index_col='datetime', parse_dates=True)\n",
    "    data = data.iloc[INITIAL_REMOVE[board_id]:]\n",
    "    data['temperature-F'] = 9.0 / 5.0 * data['temperature'] + 32\n",
    "    if board_id != 9:\n",
    "        train_data, test_data = data.loc[:\"2016-08-18\"], data.loc[\"2016-08-18\":]\n",
    "    else:\n",
    "        train_data, test_data = data, None\n",
    "    return train_data, test_data\n",
    "\n",
    "CLASSIFIERS = {\n",
    "    \"CO\": Pipeline([('poly', PolynomialFeatures(2)), ('cf', Lasso())]),\n",
    "    \"O3\": Pipeline([('poly', PolynomialFeatures(1)), ('cf', LinearRegression())]),\n",
    "    \"NO2\": Pipeline([('poly', PolynomialFeatures(2)), ('cf', Lasso())]),\n",
    "}\n",
    "\n",
    "FEATURES = {\n",
    "    \"CO\": [\"co-A\", \"co-W\", \"temperature\", \"humidity\"],\n",
    "    \"O3\": [\"o3-A\", \"o3-W\", \"co-A\", \"co-W\", \"temperature\", \"humidity\"],\n",
    "    \"NO2\": [\"o3-A\", \"o3-W\", \"no2-A\", \"no2-W\", \"co-A\", \"co-W\", \"temperature\", \"humidity\"],\n",
    "}\n",
    "\n",
    "NAME_MAP = {\n",
    "    \"co-A\": \"coA\",\n",
    "    \"co-W\": \"coW\",\n",
    "    \"no2-A\": \"no2A\",\n",
    "    \"no2-W\": \"no2W\",\n",
    "    \"o3-A\": \"o3A\",\n",
    "    \"o3-W\": \"o3W\",\n",
    "    \"temperature\": \"temperature\",\n",
    "    \"humidity\": \"humidity\"\n",
    "}\n",
    "\n",
    "TARGET = {\n",
    "    \"CO\": \"epa-co\",\n",
    "    \"O3\": \"epa-o3\",\n",
    "    \"NO2\": \"epa-no2\",\n",
    "}\n",
    "\n",
    "GASES = [\"CO\", \"O3\", \"NO2\"]"
   ]
  },
  {
   "cell_type": "code",
   "execution_count": 47,
   "metadata": {
    "collapsed": false
   },
   "outputs": [],
   "source": [
    "def generate_code(board_id):\n",
    "    train_data, test_data = read_board(board_id)\n",
    "    code = []\n",
    "    weights = {}\n",
    "    for gas in GASES:\n",
    "        cf, features, target = CLASSIFIERS[gas], FEATURES[gas], TARGET[gas]\n",
    "        cf.fit(train_data[features], train_data[target])\n",
    "        code_vector, intercept, func = generate_vector(cf, features)\n",
    "        weights[gas] = {\n",
    "            'weights': func.tolist(),\n",
    "            'intercept': intercept\n",
    "        }\n",
    "        code.append(\"    float %s_VECTOR[%u]  = %s;\" % (gas, len(code_vector), \"{%s}\" % (\", \".join(code_vector))))\n",
    "        code.append(DOT_TEMPLATE.format(\n",
    "            length=len(code_vector),\n",
    "            reading=\"reading->%s\" % gas,\n",
    "            weights=\"%s_WEIGHTS\" % gas,\n",
    "            vector=\"%s_VECTOR\" % gas,\n",
    "            intercept=\"%s_INTERCEPT\" % gas,\n",
    "        ))\n",
    "    return CODE_TEMPLATE.format(\n",
    "        weights=json.dumps(weights),\n",
    "        body='\\n\\n'.join(code)\n",
    "    )\n",
    "    \n",
    "def generate_vector(cf, features):\n",
    "    poly = cf.named_steps['poly']\n",
    "    func = cf.named_steps['cf'].coef_\n",
    "    intercept = cf.named_steps['cf'].intercept_\n",
    "    terms = []\n",
    "    for term in poly.powers_:\n",
    "        polyterms = [\"*\".join([NAME_MAP[features[i]] for _ in range(power)]) for i, power in enumerate(term) if power > 0]\n",
    "        if len(polyterms) == 0:\n",
    "            polyterms = ['1']\n",
    "        terms.append(\"*\".join(polyterms))\n",
    "    return terms, intercept, func"
   ]
  },
  {
   "cell_type": "code",
   "execution_count": 48,
   "metadata": {
    "collapsed": true
   },
   "outputs": [],
   "source": [
    "train_data, test_data = read_board(4)"
   ]
  },
  {
   "cell_type": "code",
   "execution_count": 49,
   "metadata": {
    "collapsed": false
   },
   "outputs": [],
   "source": [
    "cf, features, target = CLASSIFIERS['CO'], FEATURES['CO'], TARGET['CO']"
   ]
  },
  {
   "cell_type": "code",
   "execution_count": 50,
   "metadata": {
    "collapsed": false
   },
   "outputs": [
    {
     "data": {
      "text/plain": [
       "Pipeline(steps=[('poly', PolynomialFeatures(degree=2, include_bias=True, interaction_only=False)), ('cf', Lasso(alpha=1.0, copy_X=True, fit_intercept=True, max_iter=1000,\n",
       "   normalize=False, positive=False, precompute=False, random_state=None,\n",
       "   selection='cyclic', tol=0.0001, warm_start=False))])"
      ]
     },
     "execution_count": 50,
     "metadata": {},
     "output_type": "execute_result"
    }
   ],
   "source": [
    "cf.fit(train_data[features], train_data[target])"
   ]
  },
  {
   "cell_type": "code",
   "execution_count": 51,
   "metadata": {
    "collapsed": false
   },
   "outputs": [
    {
     "data": {
      "text/plain": [
       "-0.028363721106486328"
      ]
     },
     "execution_count": 51,
     "metadata": {},
     "output_type": "execute_result"
    }
   ],
   "source": [
    "cf.named_steps['cf'].intercept_"
   ]
  },
  {
   "cell_type": "code",
   "execution_count": 52,
   "metadata": {
    "collapsed": false,
    "scrolled": false
   },
   "outputs": [
    {
     "name": "stdout",
     "output_type": "stream",
     "text": [
      "\n",
      "\n",
      "{\"O3\": {\"intercept\": -186.41827760344097, \"weights\": [0.0, 0.07230986418652653, 0.4160721301285209, 0.18579584421943768, -0.1643969201067098, 1.4324469991422648, -0.12546586464600012]}, \"NO2\": {\"intercept\": -15.116433013118854, \"weights\": [0.0, -0.0, 0.0, 0.0, -0.0, 0.0, -0.0, 0.0, -0.0, 0.000860361445119428, 1.4103861512856326e-05, -7.285684231575184e-05, -0.00010504628804771831, -0.0005577372965488009, 0.00030074302236256207, 0.0001358903534236543, -0.00033488851573922464, -0.00012026336884163385, -5.734607438455616e-05, -7.658389153104979e-05, -0.0017058139025766337, 3.39026286174402e-05, 0.0011525399770816068, -0.0002680356334287563, -0.0008941111476869357, -0.00012858214114180736, -4.42014149122897e-05, -1.855884378895224e-05, -0.0003002812405121397, -0.00039001091852163737, -9.277183606044659e-05, 0.0037242866272783454, -0.0003546177050616209, -0.0008689149792320277, 8.465202639161321e-05, 0.00014718066030555113, 0.0008011101570634587, -0.009397348543152724, -0.0010362001034199006, -0.00027570645428680497, 0.004493717045613808, 0.0002641043755751236, 0.000553627470498921, -0.008797524873567079, 0.002613030082755843]}, \"CO\": {\"intercept\": -0.028363721106486328, \"weights\": [0.0, -0.0, 0.0, 0.0, -0.0, -8.728608466768063e-06, 1.4357179882804295e-05, -0.0, -3.962945202714216e-05, -3.867204518216653e-07, -2.060444498008262e-05, 1.083013338506562e-05, 0.0, -0.0, 4.694282215946266e-05]}}\n",
      "\n",
      "typedef struct gas_reading {\n",
      "    float CO;\n",
      "    float O3;\n",
      "    float NO2;\n",
      "} gas_reading;\n",
      "\n",
      "void calibrate_values(float coA, float coW, float o3A, float o3W, float no2A, float no2W, float temperature, float humidity, float* CO_WEIGHTS, float CO_INTERCEPT, float* O3_WEIGHTS, float O3_INTERCEPT, float* NO2_WEIGHTS, float NO2_INTERCEPT, gas_reading* reading) {\n",
      "    int i = 0;\n",
      "    float CO_VECTOR[15]  = {1, coA, coW, temperature, humidity, coA*coA, coA*coW, coA*temperature, coA*humidity, coW*coW, coW*temperature, coW*humidity, temperature*temperature, temperature*humidity, humidity*humidity};\n",
      "\n",
      "\n",
      "    for (i = 0; i < 15; i++) {\n",
      "        reading->CO += CO_VECTOR[i] * CO_WEIGHTS[i];\n",
      "    }\n",
      "    reading->CO += CO_INTERCEPT;\n",
      "\n",
      "\n",
      "    float O3_VECTOR[7]  = {1, o3A, o3W, coA, coW, temperature, humidity};\n",
      "\n",
      "\n",
      "    for (i = 0; i < 7; i++) {\n",
      "        reading->O3 += O3_VECTOR[i] * O3_WEIGHTS[i];\n",
      "    }\n",
      "    reading->O3 += O3_INTERCEPT;\n",
      "\n",
      "\n",
      "    float NO2_VECTOR[45]  = {1, o3A, o3W, no2A, no2W, coA, coW, temperature, humidity, o3A*o3A, o3A*o3W, o3A*no2A, o3A*no2W, o3A*coA, o3A*coW, o3A*temperature, o3A*humidity, o3W*o3W, o3W*no2A, o3W*no2W, o3W*coA, o3W*coW, o3W*temperature, o3W*humidity, no2A*no2A, no2A*no2W, no2A*coA, no2A*coW, no2A*temperature, no2A*humidity, no2W*no2W, no2W*coA, no2W*coW, no2W*temperature, no2W*humidity, coA*coA, coA*coW, coA*temperature, coA*humidity, coW*coW, coW*temperature, coW*humidity, temperature*temperature, temperature*humidity, humidity*humidity};\n",
      "\n",
      "\n",
      "    for (i = 0; i < 45; i++) {\n",
      "        reading->NO2 += NO2_VECTOR[i] * NO2_WEIGHTS[i];\n",
      "    }\n",
      "    reading->NO2 += NO2_INTERCEPT;\n",
      "\n",
      "}\n",
      "\n"
     ]
    }
   ],
   "source": [
    "print(generate_code(4))"
   ]
  },
  {
   "cell_type": "code",
   "execution_count": 53,
   "metadata": {
    "collapsed": false
   },
   "outputs": [
    {
     "name": "stdout",
     "output_type": "stream",
     "text": [
      "\n",
      "\n",
      "{\"O3\": {\"intercept\": -123.45516642225701, \"weights\": [0.0, -0.49724879992587856, 0.5855773419868818, 0.4967864030055257, -0.01554562959355077, 0.5730359415103649, -0.7091768422218219]}, \"NO2\": {\"intercept\": -196.83031935674765, \"weights\": [0.0, -0.0, -0.0, -0.0, 0.0, 0.0, 0.0, 0.0, -0.0, -0.0012424501186810803, -0.0002971363425903894, 0.0034782652921080378, 0.0003021199500810038, 0.0014294971569094011, 0.00036841497745968726, 0.003008867879112484, -0.0006975757532595027, -0.0009069856567289048, 0.0009162769629255814, 0.0030536391409059817, 4.035391864083345e-05, -0.0006529280931063168, -0.0022003135463553544, -0.00034660559871284795, -0.0022444715305006816, -0.003885467372960112, 0.0009303915587633484, 0.0027711252491321886, 0.00014795654390615745, -0.0009503204686086048, 0.0022191179894949626, -0.002633551522581687, -0.001911562273075625, -0.002435687914276378, 0.00011574916542995312, -0.0003157362588341309, 9.22829193065235e-07, -0.001804434864335245, 0.0009356368348090252, -2.3209958535240487e-05, 0.002615185519849237, 4.481516184912286e-05, -0.006227567300211943, -0.005079270606282458, 0.0057424571833261]}, \"CO\": {\"intercept\": -0.5390541153977613, \"weights\": [0.0, 0.0, 0.0, 0.0, -0.0, 3.5708672146585705e-06, 5.7443069250943305e-06, -0.0, -5.27524749549949e-05, -9.8044282493164e-07, 1.2952150021775773e-05, 2.6105810060768912e-05, 0.0, -0.0, 0.0001350400941314089]}}\n",
      "\n",
      "typedef struct gas_reading {\n",
      "    float CO;\n",
      "    float O3;\n",
      "    float NO2;\n",
      "} gas_reading;\n",
      "\n",
      "void calibrate_values(float coA, float coW, float o3A, float o3W, float no2A, float no2W, float temperature, float humidity, float* CO_WEIGHTS, float CO_INTERCEPT, float* O3_WEIGHTS, float O3_INTERCEPT, float* NO2_WEIGHTS, float NO2_INTERCEPT, gas_reading* reading) {\n",
      "    int i = 0;\n",
      "    float CO_VECTOR[15]  = {1, coA, coW, temperature, humidity, coA*coA, coA*coW, coA*temperature, coA*humidity, coW*coW, coW*temperature, coW*humidity, temperature*temperature, temperature*humidity, humidity*humidity};\n",
      "\n",
      "\n",
      "    for (i = 0; i < 15; i++) {\n",
      "        reading->CO += CO_VECTOR[i] * CO_WEIGHTS[i];\n",
      "    }\n",
      "    reading->CO += CO_INTERCEPT;\n",
      "\n",
      "\n",
      "    float O3_VECTOR[7]  = {1, o3A, o3W, coA, coW, temperature, humidity};\n",
      "\n",
      "\n",
      "    for (i = 0; i < 7; i++) {\n",
      "        reading->O3 += O3_VECTOR[i] * O3_WEIGHTS[i];\n",
      "    }\n",
      "    reading->O3 += O3_INTERCEPT;\n",
      "\n",
      "\n",
      "    float NO2_VECTOR[45]  = {1, o3A, o3W, no2A, no2W, coA, coW, temperature, humidity, o3A*o3A, o3A*o3W, o3A*no2A, o3A*no2W, o3A*coA, o3A*coW, o3A*temperature, o3A*humidity, o3W*o3W, o3W*no2A, o3W*no2W, o3W*coA, o3W*coW, o3W*temperature, o3W*humidity, no2A*no2A, no2A*no2W, no2A*coA, no2A*coW, no2A*temperature, no2A*humidity, no2W*no2W, no2W*coA, no2W*coW, no2W*temperature, no2W*humidity, coA*coA, coA*coW, coA*temperature, coA*humidity, coW*coW, coW*temperature, coW*humidity, temperature*temperature, temperature*humidity, humidity*humidity};\n",
      "\n",
      "\n",
      "    for (i = 0; i < 45; i++) {\n",
      "        reading->NO2 += NO2_VECTOR[i] * NO2_WEIGHTS[i];\n",
      "    }\n",
      "    reading->NO2 += NO2_INTERCEPT;\n",
      "\n",
      "}\n",
      "\n"
     ]
    }
   ],
   "source": [
    "print(generate_code(10))"
   ]
  },
  {
   "cell_type": "code",
   "execution_count": 54,
   "metadata": {
    "collapsed": false
   },
   "outputs": [
    {
     "name": "stdout",
     "output_type": "stream",
     "text": [
      "\n",
      "\n",
      "{\"O3\": {\"intercept\": 254.0218731350004, \"weights\": [0.0, -1.1563595176534505, 0.5768605369552319, 0.27977488564128233, -0.0777923014663584, 0.0, -0.6729144109954817]}, \"NO2\": {\"intercept\": 210.72601925961888, \"weights\": [0.0, 0.0, -0.0, -0.0, 0.0, 0.0, 0.0, 0.0, 0.0, 0.002538978262132088, -0.003121428967740682, -0.0004184132124288028, 0.00017222453882580245, 0.001885141335840755, 0.0004108135055299739, 0.0006849197673423578, -0.0025720597239259437, 0.0007242897640302858, -0.0028027322105233575, -0.0010758848990381736, -0.0003439817500832972, -0.0005213416903659827, 0.004236300211599229, -0.0010320268639009873, -0.0006349832111110764, 0.004806053855476336, 0.0014644998522670108, 0.0006281693676303309, -0.010726794340331981, 0.0010797091432756304, 0.0016447130829139614, -0.0009181264558453305, 2.7166017812942863e-05, 0.0006505160371262054, 9.309793421338685e-05, -0.0009765826473761864, -0.00014653678847105465, -0.0006468820384312948, -0.0009415788543265367, 1.110911519025407e-05, -2.1511709647921794e-05, 0.00019678605142289275, 0.0, 4.210264603330193e-05, 0.008642959372461137]}, \"CO\": {\"intercept\": -0.3543508470976085, \"weights\": [0.0, 0.0, 0.0, 0.0, -0.0, 3.1417249491587646e-06, -4.324624176446251e-06, 0.0, -9.921163610281978e-06, -7.026468601130439e-07, 9.21857360543496e-06, 5.78079270424121e-05, 0.0, -6.347547388190278e-05, 3.794286879176944e-05]}}\n",
      "\n",
      "typedef struct gas_reading {\n",
      "    float CO;\n",
      "    float O3;\n",
      "    float NO2;\n",
      "} gas_reading;\n",
      "\n",
      "void calibrate_values(float coA, float coW, float o3A, float o3W, float no2A, float no2W, float temperature, float humidity, float* CO_WEIGHTS, float CO_INTERCEPT, float* O3_WEIGHTS, float O3_INTERCEPT, float* NO2_WEIGHTS, float NO2_INTERCEPT, gas_reading* reading) {\n",
      "    int i = 0;\n",
      "    float CO_VECTOR[15]  = {1, coA, coW, temperature, humidity, coA*coA, coA*coW, coA*temperature, coA*humidity, coW*coW, coW*temperature, coW*humidity, temperature*temperature, temperature*humidity, humidity*humidity};\n",
      "\n",
      "\n",
      "    for (i = 0; i < 15; i++) {\n",
      "        reading->CO += CO_VECTOR[i] * CO_WEIGHTS[i];\n",
      "    }\n",
      "    reading->CO += CO_INTERCEPT;\n",
      "\n",
      "\n",
      "    float O3_VECTOR[7]  = {1, o3A, o3W, coA, coW, temperature, humidity};\n",
      "\n",
      "\n",
      "    for (i = 0; i < 7; i++) {\n",
      "        reading->O3 += O3_VECTOR[i] * O3_WEIGHTS[i];\n",
      "    }\n",
      "    reading->O3 += O3_INTERCEPT;\n",
      "\n",
      "\n",
      "    float NO2_VECTOR[45]  = {1, o3A, o3W, no2A, no2W, coA, coW, temperature, humidity, o3A*o3A, o3A*o3W, o3A*no2A, o3A*no2W, o3A*coA, o3A*coW, o3A*temperature, o3A*humidity, o3W*o3W, o3W*no2A, o3W*no2W, o3W*coA, o3W*coW, o3W*temperature, o3W*humidity, no2A*no2A, no2A*no2W, no2A*coA, no2A*coW, no2A*temperature, no2A*humidity, no2W*no2W, no2W*coA, no2W*coW, no2W*temperature, no2W*humidity, coA*coA, coA*coW, coA*temperature, coA*humidity, coW*coW, coW*temperature, coW*humidity, temperature*temperature, temperature*humidity, humidity*humidity};\n",
      "\n",
      "\n",
      "    for (i = 0; i < 45; i++) {\n",
      "        reading->NO2 += NO2_VECTOR[i] * NO2_WEIGHTS[i];\n",
      "    }\n",
      "    reading->NO2 += NO2_INTERCEPT;\n",
      "\n",
      "}\n",
      "\n"
     ]
    }
   ],
   "source": [
    "print(generate_code(8))"
   ]
  },
  {
   "cell_type": "code",
   "execution_count": 55,
   "metadata": {
    "collapsed": false
   },
   "outputs": [
    {
     "name": "stdout",
     "output_type": "stream",
     "text": [
      "\n",
      "\n",
      "{\"O3\": {\"intercept\": 70.5482564617913, \"weights\": [0.0, -0.4594531588585707, 0.36000714328918854, -0.11631553931546695, -0.11957281983039345, 2.303909580976486, 0.14656248158502222]}, \"NO2\": {\"intercept\": 42.50796591770853, \"weights\": [0.0, -0.0, 0.0, -0.0, -0.0, 0.0, 0.0, 0.0, 0.3133779301058561, 8.475240216329029e-05, -0.0012231485020407814, 0.0017287611753339196, 0.004602631600136268, 0.0005698146113430367, -0.000794664956956683, -0.01267311021059106, -0.0002124811526529831, 0.0013247302779178757, -0.005373270904751683, -0.0016339644492835786, -0.00042201039456401325, 0.0002840120080081645, 0.0056501133227505745, 0.0001571587912401297, 0.00010375195464927867, 0.003129666554642594, -0.0012701304502413906, -0.0004283466217280731, -0.0092466755141929, -0.0004620785780105832, -0.0003588359399135106, -1.4771269789589606e-05, -0.00012586679445688028, -0.005736153886028624, -0.00027089280634710303, 0.0006360798409883186, 1.834326903869435e-05, 0.0009377243377931876, 0.00019142473375117613, 7.543841946086354e-05, 0.007770414607455104, 0.00020776398953904692, 0.07566767199865611, -0.010976495335875226, -0.0040831544025118575]}, \"CO\": {\"intercept\": 1.1000653079305553, \"weights\": [0.0, 0.0, 0.0, -0.0, 0.0, 8.45736720659173e-06, 1.2539047796368553e-06, -0.00015081446105741966, 6.801867052755191e-06, 2.4905925331816456e-06, -1.52960207149807e-05, -3.712650561552974e-05, 0.0, -0.0, 0.0]}}\n",
      "\n",
      "typedef struct gas_reading {\n",
      "    float CO;\n",
      "    float O3;\n",
      "    float NO2;\n",
      "} gas_reading;\n",
      "\n",
      "void calibrate_values(float coA, float coW, float o3A, float o3W, float no2A, float no2W, float temperature, float humidity, float* CO_WEIGHTS, float CO_INTERCEPT, float* O3_WEIGHTS, float O3_INTERCEPT, float* NO2_WEIGHTS, float NO2_INTERCEPT, gas_reading* reading) {\n",
      "    int i = 0;\n",
      "    float CO_VECTOR[15]  = {1, coA, coW, temperature, humidity, coA*coA, coA*coW, coA*temperature, coA*humidity, coW*coW, coW*temperature, coW*humidity, temperature*temperature, temperature*humidity, humidity*humidity};\n",
      "\n",
      "\n",
      "    for (i = 0; i < 15; i++) {\n",
      "        reading->CO += CO_VECTOR[i] * CO_WEIGHTS[i];\n",
      "    }\n",
      "    reading->CO += CO_INTERCEPT;\n",
      "\n",
      "\n",
      "    float O3_VECTOR[7]  = {1, o3A, o3W, coA, coW, temperature, humidity};\n",
      "\n",
      "\n",
      "    for (i = 0; i < 7; i++) {\n",
      "        reading->O3 += O3_VECTOR[i] * O3_WEIGHTS[i];\n",
      "    }\n",
      "    reading->O3 += O3_INTERCEPT;\n",
      "\n",
      "\n",
      "    float NO2_VECTOR[45]  = {1, o3A, o3W, no2A, no2W, coA, coW, temperature, humidity, o3A*o3A, o3A*o3W, o3A*no2A, o3A*no2W, o3A*coA, o3A*coW, o3A*temperature, o3A*humidity, o3W*o3W, o3W*no2A, o3W*no2W, o3W*coA, o3W*coW, o3W*temperature, o3W*humidity, no2A*no2A, no2A*no2W, no2A*coA, no2A*coW, no2A*temperature, no2A*humidity, no2W*no2W, no2W*coA, no2W*coW, no2W*temperature, no2W*humidity, coA*coA, coA*coW, coA*temperature, coA*humidity, coW*coW, coW*temperature, coW*humidity, temperature*temperature, temperature*humidity, humidity*humidity};\n",
      "\n",
      "\n",
      "    for (i = 0; i < 45; i++) {\n",
      "        reading->NO2 += NO2_VECTOR[i] * NO2_WEIGHTS[i];\n",
      "    }\n",
      "    reading->NO2 += NO2_INTERCEPT;\n",
      "\n",
      "}\n",
      "\n"
     ]
    }
   ],
   "source": [
    "print(generate_code(9))"
   ]
  },
  {
   "cell_type": "code",
   "execution_count": null,
   "metadata": {
    "collapsed": true
   },
   "outputs": [],
   "source": []
  },
  {
   "cell_type": "code",
   "execution_count": null,
   "metadata": {
    "collapsed": true
   },
   "outputs": [],
   "source": []
  }
 ],
 "metadata": {
  "kernelspec": {
   "display_name": "Python 3",
   "language": "python",
   "name": "python3"
  },
  "language_info": {
   "codemirror_mode": {
    "name": "ipython",
    "version": 3
   },
   "file_extension": ".py",
   "mimetype": "text/x-python",
   "name": "python",
   "nbconvert_exporter": "python",
   "pygments_lexer": "ipython3",
   "version": "3.5.2"
  }
 },
 "nbformat": 4,
 "nbformat_minor": 2
}
