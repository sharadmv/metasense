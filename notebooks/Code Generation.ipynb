{
 "cells": [
  {
   "cell_type": "code",
   "execution_count": 1,
   "metadata": {
    "collapsed": true
   },
   "outputs": [],
   "source": [
    "import pandas as pd\n",
    "from path import Path\n",
    "import matplotlib.pyplot as plt\n",
    "import seaborn as sns\n",
    "sns.set_style('whitegrid')\n",
    "from sklearn.linear_model import LinearRegression, Ridge, Lasso\n",
    "from sklearn.pipeline import make_pipeline, Pipeline\n",
    "from sklearn.preprocessing import PolynomialFeatures\n",
    "import numpy as np\n",
    "import warnings\n",
    "warnings.filterwarnings('ignore')"
   ]
  },
  {
   "cell_type": "code",
   "execution_count": 2,
   "metadata": {
    "collapsed": true
   },
   "outputs": [],
   "source": [
    "DATA_DIR = Path(\"/home/sharad/data/metasense/la/\")"
   ]
  },
  {
   "cell_type": "code",
   "execution_count": 3,
   "metadata": {
    "collapsed": true
   },
   "outputs": [],
   "source": [
    "INITIAL_REMOVE = {\n",
    "    4: 40,\n",
    "    10: 150,\n",
    "    8: 100,\n",
    "    9: 110\n",
    "}"
   ]
  },
  {
   "cell_type": "code",
   "execution_count": 4,
   "metadata": {
    "collapsed": true
   },
   "outputs": [],
   "source": [
    "CODE_TEMPLATE = \"\"\"\n",
    "typedef struct gas_reading {{\n",
    "    float CO;\n",
    "    float O3;\n",
    "    float NO2;\n",
    "}} gas_reading;\n",
    "\n",
    "{weights}\n",
    "\n",
    "void calibrate_values(float coA, float coW, float o3A, float o3W, float no2A, float no2W, float temperature, float humidity, float* CO_WEIGHTS, float* CO_INTERCEPT, float* O3_WEIGHTS, float* O3_INTERCEPT, float* NO2_WEIGHTS, float* NO2_INTERCEPT, gas_reading* reading) {{\n",
    "    int i = 0;\n",
    "{body}\n",
    "}}\n",
    "\"\"\"\n",
    "DOT_TEMPLATE = \"\"\"\n",
    "    for (i = 0; i < {length}; i++) {{\n",
    "        {reading} += {vector}[i] * {weights}[i]\n",
    "    }}\n",
    "    {reading} += {intercept}\n",
    "\"\"\""
   ]
  },
  {
   "cell_type": "code",
   "execution_count": 5,
   "metadata": {
    "collapsed": true
   },
   "outputs": [],
   "source": [
    "def read_board(board_id):\n",
    "    data = pd.read_csv(DATA_DIR / \"csv\"/ \"B%u.csv\" % board_id, index_col='datetime', parse_dates=True)\n",
    "    data = data.iloc[INITIAL_REMOVE[board_id]:]\n",
    "    data['temperature-F'] = 9.0 / 5.0 * data['temperature'] + 32\n",
    "    if board_id != 9:\n",
    "        train_data, test_data = data.loc[:\"2016-08-18\"], data.loc[\"2016-08-18\":]\n",
    "    else:\n",
    "        train_data, test_data = data, None\n",
    "    return train_data, test_data\n",
    "\n",
    "CLASSIFIERS = {\n",
    "    \"CO\": Pipeline([('poly', PolynomialFeatures(2)), ('cf', Lasso())]),\n",
    "    \"O3\": Pipeline([('poly', PolynomialFeatures(1)), ('cf', LinearRegression())]),\n",
    "    \"NO2\": Pipeline([('poly', PolynomialFeatures(2)), ('cf', Lasso())]),\n",
    "}\n",
    "\n",
    "FEATURES = {\n",
    "    \"CO\": [\"co-A\", \"co-W\", \"temperature\", \"humidity\"],\n",
    "    \"O3\": [\"o3-A\", \"o3-W\", \"co-A\", \"co-W\", \"temperature\", \"humidity\"],\n",
    "    \"NO2\": [\"o3-A\", \"o3-W\", \"no2-A\", \"no2-W\", \"co-A\", \"co-W\", \"temperature\", \"humidity\"],\n",
    "}\n",
    "\n",
    "NAME_MAP = {\n",
    "    \"co-A\": \"coA\",\n",
    "    \"co-W\": \"coW\",\n",
    "    \"no2-A\": \"no2A\",\n",
    "    \"no2-W\": \"no2W\",\n",
    "    \"o3-A\": \"coA\",\n",
    "    \"o3-W\": \"o3W\",\n",
    "    \"temperature\": \"temperature\",\n",
    "    \"humidity\": \"humidity\"\n",
    "}\n",
    "\n",
    "TARGET = {\n",
    "    \"CO\": \"epa-co\",\n",
    "    \"O3\": \"epa-o3\",\n",
    "    \"NO2\": \"epa-no2\",\n",
    "}\n",
    "\n",
    "GASES = [\"CO\", \"O3\", \"NO2\"]"
   ]
  },
  {
   "cell_type": "code",
   "execution_count": 6,
   "metadata": {
    "collapsed": false
   },
   "outputs": [],
   "source": [
    "def generate_code(board_id):\n",
    "    train_data, test_data = read_board(board_id)\n",
    "    code = []\n",
    "    weights = []\n",
    "    for gas in GASES:\n",
    "        cf, features, target = CLASSIFIERS[gas], FEATURES[gas], TARGET[gas]\n",
    "        cf.fit(train_data[features], train_data[target])\n",
    "        code_vector, intercept, func = generate_vector(cf, features)\n",
    "        weights.append(\"float %s_WEIGHTS[%u]  = %s;\" % (gas, len(func), \"{%s}\" % (\", \".join(map(str, func)))))\n",
    "        code.append(\"    float %s_VECTOR[%u]  = %s;\" % (gas, len(code_vector), \"{%s}\" % (\", \".join(code_vector))))\n",
    "        code.append(DOT_TEMPLATE.format(\n",
    "            length=len(code_vector),\n",
    "            reading=\"reading->%s\" % gas,\n",
    "            weights=\"%s_WEIGHTS\" % gas,\n",
    "            vector=\"%s_VECTOR\" % gas,\n",
    "            intercept=\"%s_INTERCEPT\" % gas,\n",
    "        ))\n",
    "    return CODE_TEMPLATE.format(\n",
    "        weights='\\n'.join(weights),\n",
    "        body='\\n\\n'.join(code)\n",
    "    )\n",
    "    \n",
    "def generate_vector(cf, features):\n",
    "    poly = cf.named_steps['poly']\n",
    "    func = cf.named_steps['cf'].coef_\n",
    "    intercept = cf.named_steps['cf'].intercept_\n",
    "    terms = []\n",
    "    for term in poly.powers_:\n",
    "        polyterms = [\"*\".join([NAME_MAP[features[i]] for _ in range(power)]) for i, power in enumerate(term) if power > 0]\n",
    "        if len(polyterms) == 0:\n",
    "            polyterms = ['1']\n",
    "        terms.append(\"*\".join(polyterms))\n",
    "    return terms, intercept, func"
   ]
  },
  {
   "cell_type": "code",
   "execution_count": 7,
   "metadata": {
    "collapsed": false
   },
   "outputs": [
    {
     "name": "stdout",
     "output_type": "stream",
     "text": [
      "\n",
      "typedef struct gas_reading {\n",
      "    float CO;\n",
      "    float O3;\n",
      "    float NO2;\n",
      "} gas_reading;\n",
      "\n",
      "float CO_WEIGHTS[15]  = {0.0, -0.0, 0.0, 0.0, -0.0, -8.72860846677e-06, 1.43571798828e-05, -0.0, -3.96294520271e-05, -3.86720451822e-07, -2.06044449801e-05, 1.08301333851e-05, 0.0, -0.0, 4.69428221595e-05};\n",
      "float O3_WEIGHTS[7]  = {0.0, 0.0723098641865, 0.416072130129, 0.185795844219, -0.164396920107, 1.43244699914, -0.125465864646};\n",
      "float NO2_WEIGHTS[45]  = {0.0, -0.0, 0.0, 0.0, -0.0, 0.0, -0.0, 0.0, -0.0, 0.000860361445119, 1.41038615129e-05, -7.28568423158e-05, -0.000105046288048, -0.000557737296549, 0.000300743022363, 0.000135890353424, -0.000334888515739, -0.000120263368842, -5.73460743846e-05, -7.6583891531e-05, -0.00170581390258, 3.39026286174e-05, 0.00115253997708, -0.000268035633429, -0.000894111147687, -0.000128582141142, -4.42014149123e-05, -1.8558843789e-05, -0.000300281240512, -0.000390010918522, -9.27718360604e-05, 0.00372428662728, -0.000354617705062, -0.000868914979232, 8.46520263916e-05, 0.000147180660306, 0.000801110157063, -0.00939734854315, -0.00103620010342, -0.000275706454287, 0.00449371704561, 0.000264104375575, 0.000553627470499, -0.00879752487357, 0.00261303008276};\n",
      "\n",
      "void calibrate_values(float coA, float coW, float o3A, float o3W, float no2A, float no2W, float temperature, float humidity, float* CO_WEIGHTS, float* CO_INTERCEPT, float* O3_WEIGHTS, float* O3_INTERCEPT, float* NO2_WEIGHTS, float* NO2_INTERCEPT, gas_reading* reading) {\n",
      "    int i = 0;\n",
      "    float CO_VECTOR[15]  = {1, coA, coW, temperature, humidity, coA*coA, coA*coW, coA*temperature, coA*humidity, coW*coW, coW*temperature, coW*humidity, temperature*temperature, temperature*humidity, humidity*humidity};\n",
      "\n",
      "\n",
      "    for (i = 0; i < 15; i++) {\n",
      "        reading->CO += CO_VECTOR[i] * CO_WEIGHTS[i]\n",
      "    }\n",
      "    reading->CO += CO_INTERCEPT\n",
      "\n",
      "\n",
      "    float O3_VECTOR[7]  = {1, coA, o3W, coA, coW, temperature, humidity};\n",
      "\n",
      "\n",
      "    for (i = 0; i < 7; i++) {\n",
      "        reading->O3 += O3_VECTOR[i] * O3_WEIGHTS[i]\n",
      "    }\n",
      "    reading->O3 += O3_INTERCEPT\n",
      "\n",
      "\n",
      "    float NO2_VECTOR[45]  = {1, coA, o3W, no2A, no2W, coA, coW, temperature, humidity, coA*coA, coA*o3W, coA*no2A, coA*no2W, coA*coA, coA*coW, coA*temperature, coA*humidity, o3W*o3W, o3W*no2A, o3W*no2W, o3W*coA, o3W*coW, o3W*temperature, o3W*humidity, no2A*no2A, no2A*no2W, no2A*coA, no2A*coW, no2A*temperature, no2A*humidity, no2W*no2W, no2W*coA, no2W*coW, no2W*temperature, no2W*humidity, coA*coA, coA*coW, coA*temperature, coA*humidity, coW*coW, coW*temperature, coW*humidity, temperature*temperature, temperature*humidity, humidity*humidity};\n",
      "\n",
      "\n",
      "    for (i = 0; i < 45; i++) {\n",
      "        reading->NO2 += NO2_VECTOR[i] * NO2_WEIGHTS[i]\n",
      "    }\n",
      "    reading->NO2 += NO2_INTERCEPT\n",
      "\n",
      "}\n",
      "\n"
     ]
    }
   ],
   "source": [
    "print(generate_code(4))"
   ]
  },
  {
   "cell_type": "code",
   "execution_count": 8,
   "metadata": {
    "collapsed": false
   },
   "outputs": [
    {
     "name": "stdout",
     "output_type": "stream",
     "text": [
      "\n",
      "typedef struct gas_reading {\n",
      "    float CO;\n",
      "    float O3;\n",
      "    float NO2;\n",
      "} gas_reading;\n",
      "\n",
      "float CO_WEIGHTS[15]  = {0.0, 0.0, 0.0, 0.0, -0.0, 3.57086721466e-06, 5.74430692509e-06, -0.0, -5.2752474955e-05, -9.80442824932e-07, 1.29521500218e-05, 2.61058100608e-05, 0.0, -0.0, 0.000135040094131};\n",
      "float O3_WEIGHTS[7]  = {0.0, -0.497248799926, 0.585577341987, 0.496786403006, -0.0155456295936, 0.57303594151, -0.709176842222};\n",
      "float NO2_WEIGHTS[45]  = {0.0, -0.0, -0.0, -0.0, 0.0, 0.0, 0.0, 0.0, -0.0, -0.00124245011868, -0.00029713634259, 0.00347826529211, 0.000302119950081, 0.00142949715691, 0.00036841497746, 0.00300886787911, -0.00069757575326, -0.000906985656729, 0.000916276962926, 0.00305363914091, 4.03539186408e-05, -0.000652928093106, -0.00220031354636, -0.000346605598713, -0.0022444715305, -0.00388546737296, 0.000930391558763, 0.00277112524913, 0.000147956543906, -0.000950320468609, 0.00221911798949, -0.00263355152258, -0.00191156227308, -0.00243568791428, 0.00011574916543, -0.000315736258834, 9.22829193065e-07, -0.00180443486434, 0.000935636834809, -2.32099585352e-05, 0.00261518551985, 4.48151618491e-05, -0.00622756730021, -0.00507927060628, 0.00574245718333};\n",
      "\n",
      "void calibrate_values(float coA, float coW, float o3A, float o3W, float no2A, float no2W, float temperature, float humidity, float* CO_WEIGHTS, float* CO_INTERCEPT, float* O3_WEIGHTS, float* O3_INTERCEPT, float* NO2_WEIGHTS, float* NO2_INTERCEPT, gas_reading* reading) {\n",
      "    int i = 0;\n",
      "    float CO_VECTOR[15]  = {1, coA, coW, temperature, humidity, coA*coA, coA*coW, coA*temperature, coA*humidity, coW*coW, coW*temperature, coW*humidity, temperature*temperature, temperature*humidity, humidity*humidity};\n",
      "\n",
      "\n",
      "    for (i = 0; i < 15; i++) {\n",
      "        reading->CO += CO_VECTOR[i] * CO_WEIGHTS[i]\n",
      "    }\n",
      "    reading->CO += CO_INTERCEPT\n",
      "\n",
      "\n",
      "    float O3_VECTOR[7]  = {1, coA, o3W, coA, coW, temperature, humidity};\n",
      "\n",
      "\n",
      "    for (i = 0; i < 7; i++) {\n",
      "        reading->O3 += O3_VECTOR[i] * O3_WEIGHTS[i]\n",
      "    }\n",
      "    reading->O3 += O3_INTERCEPT\n",
      "\n",
      "\n",
      "    float NO2_VECTOR[45]  = {1, coA, o3W, no2A, no2W, coA, coW, temperature, humidity, coA*coA, coA*o3W, coA*no2A, coA*no2W, coA*coA, coA*coW, coA*temperature, coA*humidity, o3W*o3W, o3W*no2A, o3W*no2W, o3W*coA, o3W*coW, o3W*temperature, o3W*humidity, no2A*no2A, no2A*no2W, no2A*coA, no2A*coW, no2A*temperature, no2A*humidity, no2W*no2W, no2W*coA, no2W*coW, no2W*temperature, no2W*humidity, coA*coA, coA*coW, coA*temperature, coA*humidity, coW*coW, coW*temperature, coW*humidity, temperature*temperature, temperature*humidity, humidity*humidity};\n",
      "\n",
      "\n",
      "    for (i = 0; i < 45; i++) {\n",
      "        reading->NO2 += NO2_VECTOR[i] * NO2_WEIGHTS[i]\n",
      "    }\n",
      "    reading->NO2 += NO2_INTERCEPT\n",
      "\n",
      "}\n",
      "\n"
     ]
    }
   ],
   "source": [
    "print(generate_code(10))"
   ]
  },
  {
   "cell_type": "code",
   "execution_count": 9,
   "metadata": {
    "collapsed": false
   },
   "outputs": [
    {
     "name": "stdout",
     "output_type": "stream",
     "text": [
      "\n",
      "typedef struct gas_reading {\n",
      "    float CO;\n",
      "    float O3;\n",
      "    float NO2;\n",
      "} gas_reading;\n",
      "\n",
      "float CO_WEIGHTS[15]  = {0.0, 0.0, 0.0, 0.0, -0.0, 3.14172494916e-06, -4.32462417645e-06, 0.0, -9.92116361028e-06, -7.02646860113e-07, 9.21857360543e-06, 5.78079270424e-05, 0.0, -6.34754738819e-05, 3.79428687918e-05};\n",
      "float O3_WEIGHTS[7]  = {0.0, -1.15635951765, 0.576860536955, 0.279774885641, -0.0777923014664, 0.0, -0.672914410995};\n",
      "float NO2_WEIGHTS[45]  = {0.0, 0.0, -0.0, -0.0, 0.0, 0.0, 0.0, 0.0, 0.0, 0.00253897826213, -0.00312142896774, -0.000418413212429, 0.000172224538826, 0.00188514133584, 0.00041081350553, 0.000684919767342, -0.00257205972393, 0.00072428976403, -0.00280273221052, -0.00107588489904, -0.000343981750083, -0.000521341690366, 0.0042363002116, -0.0010320268639, -0.000634983211111, 0.00480605385548, 0.00146449985227, 0.00062816936763, -0.0107267943403, 0.00107970914328, 0.00164471308291, -0.000918126455845, 2.71660178129e-05, 0.000650516037126, 9.30979342134e-05, -0.000976582647376, -0.000146536788471, -0.000646882038431, -0.000941578854327, 1.11091151903e-05, -2.15117096479e-05, 0.000196786051423, 0.0, 4.21026460333e-05, 0.00864295937246};\n",
      "\n",
      "void calibrate_values(float coA, float coW, float o3A, float o3W, float no2A, float no2W, float temperature, float humidity, float* CO_WEIGHTS, float* CO_INTERCEPT, float* O3_WEIGHTS, float* O3_INTERCEPT, float* NO2_WEIGHTS, float* NO2_INTERCEPT, gas_reading* reading) {\n",
      "    int i = 0;\n",
      "    float CO_VECTOR[15]  = {1, coA, coW, temperature, humidity, coA*coA, coA*coW, coA*temperature, coA*humidity, coW*coW, coW*temperature, coW*humidity, temperature*temperature, temperature*humidity, humidity*humidity};\n",
      "\n",
      "\n",
      "    for (i = 0; i < 15; i++) {\n",
      "        reading->CO += CO_VECTOR[i] * CO_WEIGHTS[i]\n",
      "    }\n",
      "    reading->CO += CO_INTERCEPT\n",
      "\n",
      "\n",
      "    float O3_VECTOR[7]  = {1, coA, o3W, coA, coW, temperature, humidity};\n",
      "\n",
      "\n",
      "    for (i = 0; i < 7; i++) {\n",
      "        reading->O3 += O3_VECTOR[i] * O3_WEIGHTS[i]\n",
      "    }\n",
      "    reading->O3 += O3_INTERCEPT\n",
      "\n",
      "\n",
      "    float NO2_VECTOR[45]  = {1, coA, o3W, no2A, no2W, coA, coW, temperature, humidity, coA*coA, coA*o3W, coA*no2A, coA*no2W, coA*coA, coA*coW, coA*temperature, coA*humidity, o3W*o3W, o3W*no2A, o3W*no2W, o3W*coA, o3W*coW, o3W*temperature, o3W*humidity, no2A*no2A, no2A*no2W, no2A*coA, no2A*coW, no2A*temperature, no2A*humidity, no2W*no2W, no2W*coA, no2W*coW, no2W*temperature, no2W*humidity, coA*coA, coA*coW, coA*temperature, coA*humidity, coW*coW, coW*temperature, coW*humidity, temperature*temperature, temperature*humidity, humidity*humidity};\n",
      "\n",
      "\n",
      "    for (i = 0; i < 45; i++) {\n",
      "        reading->NO2 += NO2_VECTOR[i] * NO2_WEIGHTS[i]\n",
      "    }\n",
      "    reading->NO2 += NO2_INTERCEPT\n",
      "\n",
      "}\n",
      "\n"
     ]
    }
   ],
   "source": [
    "print(generate_code(8))"
   ]
  },
  {
   "cell_type": "code",
   "execution_count": 10,
   "metadata": {
    "collapsed": false
   },
   "outputs": [
    {
     "name": "stdout",
     "output_type": "stream",
     "text": [
      "\n",
      "typedef struct gas_reading {\n",
      "    float CO;\n",
      "    float O3;\n",
      "    float NO2;\n",
      "} gas_reading;\n",
      "\n",
      "float CO_WEIGHTS[15]  = {0.0, 0.0, 0.0, -0.0, 0.0, 8.45736720659e-06, 1.25390477964e-06, -0.000150814461057, 6.80186705276e-06, 2.49059253318e-06, -1.5296020715e-05, -3.71265056155e-05, 0.0, -0.0, 0.0};\n",
      "float O3_WEIGHTS[7]  = {0.0, -0.459453158859, 0.360007143289, -0.116315539315, -0.11957281983, 2.30390958098, 0.146562481585};\n",
      "float NO2_WEIGHTS[45]  = {0.0, -0.0, 0.0, -0.0, -0.0, 0.0, 0.0, 0.0, 0.313377930106, 8.47524021633e-05, -0.00122314850204, 0.00172876117533, 0.00460263160014, 0.000569814611343, -0.000794664956957, -0.0126731102106, -0.000212481152653, 0.00132473027792, -0.00537327090475, -0.00163396444928, -0.000422010394564, 0.000284012008008, 0.00565011332275, 0.00015715879124, 0.000103751954649, 0.00312966655464, -0.00127013045024, -0.000428346621728, -0.00924667551419, -0.000462078578011, -0.000358835939914, -1.47712697896e-05, -0.000125866794457, -0.00573615388603, -0.000270892806347, 0.000636079840988, 1.83432690387e-05, 0.000937724337793, 0.000191424733751, 7.54384194609e-05, 0.00777041460746, 0.000207763989539, 0.0756676719987, -0.0109764953359, -0.00408315440251};\n",
      "\n",
      "void calibrate_values(float coA, float coW, float o3A, float o3W, float no2A, float no2W, float temperature, float humidity, float* CO_WEIGHTS, float* CO_INTERCEPT, float* O3_WEIGHTS, float* O3_INTERCEPT, float* NO2_WEIGHTS, float* NO2_INTERCEPT, gas_reading* reading) {\n",
      "    int i = 0;\n",
      "    float CO_VECTOR[15]  = {1, coA, coW, temperature, humidity, coA*coA, coA*coW, coA*temperature, coA*humidity, coW*coW, coW*temperature, coW*humidity, temperature*temperature, temperature*humidity, humidity*humidity};\n",
      "\n",
      "\n",
      "    for (i = 0; i < 15; i++) {\n",
      "        reading->CO += CO_VECTOR[i] * CO_WEIGHTS[i]\n",
      "    }\n",
      "    reading->CO += CO_INTERCEPT\n",
      "\n",
      "\n",
      "    float O3_VECTOR[7]  = {1, coA, o3W, coA, coW, temperature, humidity};\n",
      "\n",
      "\n",
      "    for (i = 0; i < 7; i++) {\n",
      "        reading->O3 += O3_VECTOR[i] * O3_WEIGHTS[i]\n",
      "    }\n",
      "    reading->O3 += O3_INTERCEPT\n",
      "\n",
      "\n",
      "    float NO2_VECTOR[45]  = {1, coA, o3W, no2A, no2W, coA, coW, temperature, humidity, coA*coA, coA*o3W, coA*no2A, coA*no2W, coA*coA, coA*coW, coA*temperature, coA*humidity, o3W*o3W, o3W*no2A, o3W*no2W, o3W*coA, o3W*coW, o3W*temperature, o3W*humidity, no2A*no2A, no2A*no2W, no2A*coA, no2A*coW, no2A*temperature, no2A*humidity, no2W*no2W, no2W*coA, no2W*coW, no2W*temperature, no2W*humidity, coA*coA, coA*coW, coA*temperature, coA*humidity, coW*coW, coW*temperature, coW*humidity, temperature*temperature, temperature*humidity, humidity*humidity};\n",
      "\n",
      "\n",
      "    for (i = 0; i < 45; i++) {\n",
      "        reading->NO2 += NO2_VECTOR[i] * NO2_WEIGHTS[i]\n",
      "    }\n",
      "    reading->NO2 += NO2_INTERCEPT\n",
      "\n",
      "}\n",
      "\n"
     ]
    }
   ],
   "source": [
    "print(generate_code(9))"
   ]
  },
  {
   "cell_type": "code",
   "execution_count": null,
   "metadata": {
    "collapsed": true
   },
   "outputs": [],
   "source": []
  },
  {
   "cell_type": "code",
   "execution_count": null,
   "metadata": {
    "collapsed": true
   },
   "outputs": [],
   "source": []
  }
 ],
 "metadata": {
  "kernelspec": {
   "display_name": "Python 3",
   "language": "python",
   "name": "python3"
  },
  "language_info": {
   "codemirror_mode": {
    "name": "ipython",
    "version": 3
   },
   "file_extension": ".py",
   "mimetype": "text/x-python",
   "name": "python",
   "nbconvert_exporter": "python",
   "pygments_lexer": "ipython3",
   "version": "3.5.2"
  }
 },
 "nbformat": 4,
 "nbformat_minor": 2
}
