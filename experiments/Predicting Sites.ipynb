{
 "cells": [
  {
   "cell_type": "code",
   "execution_count": 1,
   "metadata": {
    "collapsed": false
   },
   "outputs": [],
   "source": [
    "import numpy as np\n",
    "from metasense.epa import data\n",
    "from sklearn.linear_model import LinearRegression\n",
    "from sklearn.cross_validation import train_test_split"
   ]
  },
  {
   "cell_type": "markdown",
   "metadata": {},
   "source": [
    "# Loading Ozone Data"
   ]
  },
  {
   "cell_type": "code",
   "execution_count": 87,
   "metadata": {
    "collapsed": false
   },
   "outputs": [
    {
     "name": "stdout",
     "output_type": "stream",
     "text": [
      "(9912, 9)\n",
      "(9560, 3)\n",
      "(1310, 9)\n"
     ]
    }
   ],
   "source": [
    "csvs = data.load_data('../data')\n",
    "ozone_mat = []\n",
    "co_mat = []\n",
    "no2_mat = []\n",
    "for csv, text in csvs.iteritems():                                                                                                                                                                                                            \n",
    "    result = data.load_csv_from_string(text)\n",
    "    ozone_mat.append(data.convert_to_matrix(result, 'ozone'))           \n",
    "    co_mat.append(data.convert_to_matrix(result, 'co'))    \n",
    "    no2_mat.append(data.convert_to_matrix(result, 'no2'))           \n",
    "\n",
    "ozone_mat = np.concatenate([x for x in ozone_mat if x is not None and len(x.shape) == 2 and x.shape[1] == 9])\n",
    "co_mat = np.concatenate([x for x in co_mat if x is not None and len(x.shape) == 2 and x.shape[1] == 3])\n",
    "no2_mat = np.concatenate([x for x in no2_mat if x is not None and len(x.shape) == 2 and x.shape[1] == 9])\n",
    "\n",
    "print ozone_mat.shape\n",
    "print co_mat.shape\n",
    "print no2_mat.shapez"
   ]
  },
  {
   "cell_type": "code",
   "execution_count": 86,
   "metadata": {
    "collapsed": false
   },
   "outputs": [
    {
     "name": "stdout",
     "output_type": "stream",
     "text": [
      "alpine, chula vista, del_mar, downtown, el cajon fsd, escondido, kearny mesa, otay mesa dvn, pendleton\n",
      "downtown, el cajon fsd, escondido\n",
      "alpine, carmel mt rch, chula vista, downtown, el cajon fsd, escondido, kearny mesa, otay mesa dvn, pendleton\n"
     ]
    }
   ],
   "source": [
    "ozone_sites = sorted(data.load_csv_from_string(csvs['20150429'])['ozone'].keys())\n",
    "print ', '.join(ozone_sites)\n",
    "co_sites = sorted(data.load_csv_from_string(csvs['20150429'])['co'].keys())\n",
    "print ', '.join(co_sites)\n",
    "no2_sites = sorted(data.load_csv_from_string(csvs['20150429'])['no2'].keys())\n",
    "print ', '.join(no2_sites)"
   ]
  },
  {
   "cell_type": "markdown",
   "metadata": {},
   "source": [
    "# Linear Regression for Ozone"
   ]
  },
  {
   "cell_type": "code",
   "execution_count": 71,
   "metadata": {
    "collapsed": true
   },
   "outputs": [],
   "source": [
    "def predict(site_to_predict, sites, mat):\n",
    "    print \"Predicting site:\", site_to_predict\n",
    "    site_index = sites.index(site_to_predict)\n",
    "    X, y = np.hstack([mat[:, :site_index], mat[:, site_index + 1:]]), mat[:, site_index].ravel()\n",
    "    Xtrain, Xtest, ytrain, ytest = train_test_split(X, y, test_size=0.25, random_state=42)\n",
    "    model = LinearRegression()\n",
    "    model.fit(Xtrain, ytrain)\n",
    "    print \"Training R^2:\", model.score(Xtrain, ytrain)\n",
    "    print \"Testing R^2:\", model.score(Xtest, ytest)\n",
    "    print\n",
    "    return model, X, y"
   ]
  },
  {
   "cell_type": "code",
   "execution_count": 69,
   "metadata": {
    "collapsed": false
   },
   "outputs": [
    {
     "name": "stdout",
     "output_type": "stream",
     "text": [
      "Predicting site: alpine\n",
      "Training R^2: 0.408980667834\n",
      "Testing R^2: 0.393714203692\n",
      "\n",
      "Predicting site: chula vista\n",
      "Training R^2: 0.860704835944\n",
      "Testing R^2: 0.858922711637\n",
      "\n",
      "Predicting site: del_mar\n",
      "Training R^2: 0.762772888924\n",
      "Testing R^2: 0.736508475273\n",
      "\n",
      "Predicting site: downtown\n",
      "Training R^2: 0.815250937187\n",
      "Testing R^2: 0.797296912942\n",
      "\n",
      "Predicting site: el cajon fsd\n",
      "Training R^2: 0.884630933702\n",
      "Testing R^2: 0.889017699288\n",
      "\n",
      "Predicting site: escondido\n",
      "Training R^2: 0.867691081888\n",
      "Testing R^2: 0.871456272706\n",
      "\n",
      "Predicting site: kearny mesa\n",
      "Training R^2: 0.756464548563\n",
      "Testing R^2: 0.830478591411\n",
      "\n",
      "Predicting site: otay mesa dvn\n",
      "Training R^2: 0.678767173044\n",
      "Testing R^2: 0.664008238544\n",
      "\n",
      "Predicting site: pendleton\n",
      "Training R^2: 0.792960439564\n",
      "Testing R^2: 0.735989223001\n",
      "\n"
     ]
    }
   ],
   "source": [
    "models = [predict(site, ozone_sites, ozone_mat) for site in ozone_sites]"
   ]
  },
  {
   "cell_type": "markdown",
   "metadata": {},
   "source": [
    "# Linear Regression for CO"
   ]
  },
  {
   "cell_type": "code",
   "execution_count": 88,
   "metadata": {
    "collapsed": false,
    "scrolled": false
   },
   "outputs": [
    {
     "name": "stdout",
     "output_type": "stream",
     "text": [
      "Predicting site: downtown\n",
      "Training R^2: 0.613461472506\n",
      "Testing R^2: 0.586529952486\n",
      "\n",
      "Predicting site: el cajon fsd\n",
      "Training R^2: 0.660612993356\n",
      "Testing R^2: 0.658221191792\n",
      "\n",
      "Predicting site: escondido\n",
      "Training R^2: 0.661419730312\n",
      "Testing R^2: 0.650131605189\n",
      "\n"
     ]
    }
   ],
   "source": [
    "models = [predict(site, co_sites, co_mat) for site in co_sites]"
   ]
  },
  {
   "cell_type": "markdown",
   "metadata": {},
   "source": [
    "# Linear Regression for NO2"
   ]
  },
  {
   "cell_type": "code",
   "execution_count": 89,
   "metadata": {
    "collapsed": false,
    "scrolled": true
   },
   "outputs": [
    {
     "name": "stdout",
     "output_type": "stream",
     "text": [
      "Predicting site: alpine\n",
      "Training R^2: 0.188820708435\n",
      "Testing R^2: 0.118954036259\n",
      "\n",
      "Predicting site: carmel mt rch\n",
      "Training R^2: 0.525332316606\n",
      "Testing R^2: 0.52813607902\n",
      "\n",
      "Predicting site: chula vista\n",
      "Training R^2: 0.718692209077\n",
      "Testing R^2: 0.747392829833\n",
      "\n",
      "Predicting site: downtown\n",
      "Training R^2: 0.573406467243\n",
      "Testing R^2: 0.641885753163\n",
      "\n",
      "Predicting site: el cajon fsd\n",
      "Training R^2: 0.554843958195\n",
      "Testing R^2: 0.606817729971\n",
      "\n",
      "Predicting site: escondido\n",
      "Training R^2: 0.694272096781\n",
      "Testing R^2: 0.71556380727\n",
      "\n",
      "Predicting site: kearny mesa\n",
      "Training R^2: 0.659773665525\n",
      "Testing R^2: 0.705018485306\n",
      "\n",
      "Predicting site: otay mesa dvn\n",
      "Training R^2: 0.513097525959\n",
      "Testing R^2: 0.468059404695\n",
      "\n",
      "Predicting site: pendleton\n",
      "Training R^2: 0.464846815135\n",
      "Testing R^2: 0.552023789438\n",
      "\n"
     ]
    }
   ],
   "source": [
    "models = [predict(site, no2_sites, no2_mat) for site in no2_sites]"
   ]
  }
 ],
 "metadata": {
  "kernelspec": {
   "display_name": "Python 2",
   "language": "python",
   "name": "python2"
  },
  "language_info": {
   "codemirror_mode": {
    "name": "ipython",
    "version": 2
   },
   "file_extension": ".py",
   "mimetype": "text/x-python",
   "name": "python",
   "nbconvert_exporter": "python",
   "pygments_lexer": "ipython2",
   "version": "2.7.6"
  }
 },
 "nbformat": 4,
 "nbformat_minor": 0
}
